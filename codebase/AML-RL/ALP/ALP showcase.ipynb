{
 "cells": [
  {
   "cell_type": "code",
   "execution_count": null,
   "metadata": {},
   "outputs": [],
   "source": [
    "import numpy as np\n",
    "from pulp import *\n",
    "\n",
    "# Group 3\n",
    "\n",
    "# Inputs\n",
    "# States\n",
    "n = 5\n",
    "# Actions\n",
    "m = 3\n",
    "# Features\n",
    "k = n\n"
   ]
  },
  {
   "cell_type": "code",
   "execution_count": 1,
   "metadata": {},
   "outputs": [
    {
     "ename": "NameError",
     "evalue": "name 'np' is not defined",
     "output_type": "error",
     "traceback": [
      "\u001b[0;31m---------------------------------------------------------------------------\u001b[0m",
      "\u001b[0;31mNameError\u001b[0m                                 Traceback (most recent call last)",
      "\u001b[0;32m<ipython-input-1-1b84ffbba468>\u001b[0m in \u001b[0;36m<module>\u001b[0;34m\u001b[0m\n\u001b[1;32m      1\u001b[0m \u001b[0;31m# Fill P matrix\u001b[0m\u001b[0;34m\u001b[0m\u001b[0;34m\u001b[0m\u001b[0m\n\u001b[1;32m      2\u001b[0m \u001b[0;34m\u001b[0m\u001b[0m\n\u001b[0;32m----> 3\u001b[0;31m \u001b[0mP\u001b[0m \u001b[0;34m=\u001b[0m \u001b[0mnp\u001b[0m\u001b[0;34m.\u001b[0m\u001b[0mzeros\u001b[0m\u001b[0;34m(\u001b[0m\u001b[0;34m(\u001b[0m\u001b[0mm\u001b[0m\u001b[0;34m,\u001b[0m \u001b[0mn\u001b[0m\u001b[0;34m,\u001b[0m \u001b[0mn\u001b[0m\u001b[0;34m)\u001b[0m\u001b[0;34m)\u001b[0m\u001b[0;34m\u001b[0m\u001b[0m\n\u001b[0m\u001b[1;32m      4\u001b[0m \u001b[0mg\u001b[0m \u001b[0;34m=\u001b[0m \u001b[0mnp\u001b[0m\u001b[0;34m.\u001b[0m\u001b[0mzeros\u001b[0m\u001b[0;34m(\u001b[0m\u001b[0;34m(\u001b[0m\u001b[0mm\u001b[0m\u001b[0;34m,\u001b[0m \u001b[0mn\u001b[0m\u001b[0;34m)\u001b[0m\u001b[0;34m)\u001b[0m\u001b[0;34m\u001b[0m\u001b[0m\n\u001b[1;32m      5\u001b[0m \u001b[0;34m\u001b[0m\u001b[0m\n",
      "\u001b[0;31mNameError\u001b[0m: name 'np' is not defined"
     ]
    }
   ],
   "source": [
    "# Fill P matrix\n",
    "\n",
    "P = np.zeros((m, n, n))\n",
    "g = np.zeros((m, n))\n",
    "\n",
    "action_prob = np.array([[0.7, 0.2, 0.1],\n",
    "                        [0.1, 0.8, 0.1],\n",
    "                        [0.1, 0.2, 0.7]])\n",
    "\n",
    "for a in range(m):\n",
    "    P[a, 0, 0] = action_prob[a, 1]\n",
    "    P[a, 0, 1] = action_prob[a, 2]\n",
    "    P[a, 0, n - 1] = action_prob[a, 0]\n",
    "    P[a, n - 1, 0] = action_prob[a, 2]\n",
    "    P[a, n - 1, n - 1] = action_prob[a, 1]\n",
    "    P[a, n - 1, n - 2] = action_prob[a, 0]\n",
    "\n",
    "    for i in range(1, n - 1):\n",
    "        P[a, i, i] = action_prob[a, 1]\n",
    "        P[a, i, i - 1] = action_prob[a, 0]\n",
    "        P[a, i, i + 1] = action_prob[a, 2]\n",
    "        g[a, i] = 5 * (1 - 2 / n * abs(i - (n - 1) / 2))\n",
    "\n",
    "phi = np.eye(n)\n",
    "phi_t = np.transpose(phi)\n",
    "\n",
    "# weight\n",
    "r_t = LpVariable.dicts(\"r\", list(range(k)), 0)\n",
    "\n",
    "c_t = np.ones((1, n))  # vector\n",
    "alpha = 1 / 1.02\n",
    "I = np.eye(n)\n",
    "\n",
    "print(\"phi: \", phi_t)\n",
    "print(\"g: \", g)\n",
    "print(\"c: \", c_t)\n",
    "\n",
    "# c_t times phi\n",
    "c_phi = c_t @ phi"
   ]
  },
  {
   "cell_type": "code",
   "execution_count": null,
   "metadata": {},
   "outputs": [],
   "source": [
    "\n",
    "prob = LpProblem(\"ALP\", LpMaximize)\n",
    "\n",
    "# objective\n",
    "# prob += lpDot(left, r_t)\n",
    "prob += lpSum(c_phi[0][i] * r_t[i] for i in range(k))\n",
    "\n",
    "# Constraint\n",
    "# for each action\n",
    "# for each state\n",
    "\n",
    "for i in range(m):\n",
    "    # (I -aP)* phi\n",
    "    Pa = P[i]\n",
    "    factor_m = (I - alpha * Pa) @ phi\n",
    "    # (I - a*Pa) * phi * r <= g\n",
    "    for j in range(n):\n",
    "        # print(factor_m[j])\n",
    "        prob += lpSum([factor_m[j][e] * r_t[e] for e in range(k)]) <= g[i][j]"
   ]
  },
  {
   "cell_type": "code",
   "execution_count": 1,
   "metadata": {},
   "outputs": [
    {
     "ename": "NameError",
     "evalue": "name 'prob' is not defined",
     "output_type": "error",
     "traceback": [
      "\u001b[0;31m---------------------------------------------------------------------------\u001b[0m",
      "\u001b[0;31mNameError\u001b[0m                                 Traceback (most recent call last)",
      "\u001b[0;32m<ipython-input-1-2523361bc273>\u001b[0m in \u001b[0;36m<module>\u001b[0;34m\u001b[0m\n\u001b[1;32m      1\u001b[0m \u001b[0;34m\u001b[0m\u001b[0m\n\u001b[0;32m----> 2\u001b[0;31m \u001b[0mprob\u001b[0m\u001b[0;34m.\u001b[0m\u001b[0msolve\u001b[0m\u001b[0;34m(\u001b[0m\u001b[0;34m)\u001b[0m\u001b[0;34m\u001b[0m\u001b[0m\n\u001b[0m\u001b[1;32m      3\u001b[0m \u001b[0;34m\u001b[0m\u001b[0m\n\u001b[1;32m      4\u001b[0m \u001b[0mprint\u001b[0m\u001b[0;34m(\u001b[0m\u001b[0;34m\"Status\"\u001b[0m\u001b[0;34m,\u001b[0m \u001b[0mLpStatus\u001b[0m\u001b[0;34m[\u001b[0m\u001b[0mprob\u001b[0m\u001b[0;34m.\u001b[0m\u001b[0mstatus\u001b[0m\u001b[0;34m]\u001b[0m\u001b[0;34m)\u001b[0m\u001b[0;34m\u001b[0m\u001b[0m\n\u001b[1;32m      5\u001b[0m \u001b[0;34m\u001b[0m\u001b[0m\n",
      "\u001b[0;31mNameError\u001b[0m: name 'prob' is not defined"
     ]
    }
   ],
   "source": [
    "\n",
    "prob.solve()\n",
    "\n",
    "print(\"Status\", LpStatus[prob.status])\n",
    "\n",
    "for v in prob.variables():\n",
    "    print(v.name, \"=\", v.varValue)\n",
    "\n",
    "print(\"objective=\", value(prob.objective))\n"
   ]
  },
  {
   "cell_type": "code",
   "execution_count": null,
   "metadata": {},
   "outputs": [],
   "source": [
    "# phi @ r\n",
    "res = phi @ np.array([[value(r_t[i])] for i in range(k)])\n",
    "\n",
    "# policy\n",
    "u = np.zeros(n)\n",
    "for x in range(n):\n",
    "    u[x] = np.argmin([g[i, x] + alpha * np.dot(P[i, x, :], res) for i in range(m)])\n",
    "\n",
    "print(u)\n"
   ]
  }
 ],
 "metadata": {
  "kernelspec": {
   "display_name": "Python 3",
   "language": "python",
   "name": "python3"
  },
  "language_info": {
   "codemirror_mode": {
    "name": "ipython",
    "version": 3
   },
   "file_extension": ".py",
   "mimetype": "text/x-python",
   "name": "python",
   "nbconvert_exporter": "python",
   "pygments_lexer": "ipython3",
   "version": "3.5.6"
  }
 },
 "nbformat": 4,
 "nbformat_minor": 2
}
